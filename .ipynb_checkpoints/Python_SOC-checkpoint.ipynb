{
 "cells": [
  {
   "cell_type": "markdown",
   "id": "e81953d4",
   "metadata": {},
   "source": [
    "# 1  Introduction to Python"
   ]
  },
  {
   "cell_type": "markdown",
   "id": "360f2bee",
   "metadata": {},
   "source": [
    "importing library and gettting  the sum of two arrays"
   ]
  },
  {
   "cell_type": "code",
   "execution_count": 57,
   "id": "32e93383",
   "metadata": {},
   "outputs": [
    {
     "name": "stdout",
     "output_type": "stream",
     "text": [
      "[[ 6  8 10 12]\n",
      " [ 8 10 12 14]]\n"
     ]
    }
   ],
   "source": [
    "import numpy as np \n",
    "a=np.array([[1,2,3,4],[1,2,3,4]])\n",
    "b=np.array([[5,6,7,8],[7,8,9,10]])\n",
    "d=a+b\n",
    "print(d)"
   ]
  },
  {
   "cell_type": "markdown",
   "id": "c399524c",
   "metadata": {},
   "source": [
    "getting elements in an array"
   ]
  },
  {
   "cell_type": "code",
   "execution_count": 2,
   "id": "49808a14",
   "metadata": {},
   "outputs": [
    {
     "name": "stdout",
     "output_type": "stream",
     "text": [
      "15\n"
     ]
    }
   ],
   "source": [
    "import numpy as npm\n",
    "arr = np.array([[1,2,3,4,5], [6,7,8,9,10]])\n",
    "print('2nd element on 1st row: ', arr[0, 1])"
   ]
  },
  {
   "cell_type": "markdown",
   "id": "720f4d3a",
   "metadata": {},
   "source": [
    "Addition"
   ]
  },
  {
   "cell_type": "code",
   "execution_count": 3,
   "id": "10554c61",
   "metadata": {},
   "outputs": [
    {
     "name": "stdout",
     "output_type": "stream",
     "text": [
      "15\n"
     ]
    }
   ],
   "source": [
    "a=[1,2,3,4,5]\n",
    "print(sum(a))"
   ]
  },
  {
   "cell_type": "markdown",
   "id": "135f1890",
   "metadata": {},
   "source": [
    "Average"
   ]
  },
  {
   "cell_type": "code",
   "execution_count": 9,
   "id": "6ac75159",
   "metadata": {},
   "outputs": [
    {
     "name": "stdout",
     "output_type": "stream",
     "text": [
      "4\n"
     ]
    }
   ],
   "source": [
    "import statistics\n",
    "numbers = [1, 2, 3, 4, 5, 6, 7]\n",
    "med = statistics.median(numbers)\n",
    "print(med)"
   ]
  },
  {
   "cell_type": "markdown",
   "id": "ff8f59fd",
   "metadata": {},
   "source": [
    "2D Graph"
   ]
  },
  {
   "cell_type": "code",
   "execution_count": 5,
   "id": "a1aa19e4",
   "metadata": {},
   "outputs": [
    {
     "data": {
      "image/png": "[encoded data removed]",
      "text/plain": [
       "<Figure size 640x480 with 1 Axes>"
      ]
     },
     "metadata": {},
     "output_type": "display_data"
    }
   ],
   "source": [
    "import matplotlib.pyplot as plt\n",
    "x=[1,2,3,4]\n",
    "y=[1,2,3,4]\n",
    "plt.plot(x,y)\n",
    "plt.xlabel(\"X-Axis\")\n",
    "plt.ylabel(\"Y Axis\")\n",
    "plt.show()\n"
   ]
  },
  {
   "cell_type": "code",
   "execution_count": null,
   "id": "8d66285b",
   "metadata": {},
   "outputs": [],
   "source": []
  },
  {
   "cell_type": "code",
   "execution_count": 7,
   "id": "b47bb8b7",
   "metadata": {},
   "outputs": [
    {
     "data": {
      "text/plain": [
       "('The area of discharge is ', 25)"
      ]
     },
     "execution_count": 7,
     "metadata": {},
     "output_type": "execute_result"
    }
   ],
   "source": [
    "def discharge(area,velocity):\n",
    "    Q=area*velocity\n",
    "    return \"The area of discharge is \",Q\n",
    "discharge(5,5)"
   ]
  },
  {
   "cell_type": "markdown",
   "id": "836f8169",
   "metadata": {},
   "source": [
    "# 2  Program on SFD and BMD"
   ]
  },
  {
   "cell_type": "code",
   "execution_count": 12,
   "id": "3bce2488",
   "metadata": {},
   "outputs": [],
   "source": [
    "#input values\n",
    "W1=45 #int(input(\"Enter the value of load in span AB\")) #load1\n",
    "W2=50 #int(input(\"Enter the value of load in span BC\"))  #load2\n",
    "L1=4  #int(input(\"Enter the value of length in span AB\")) #length 1\n",
    "L2=8 #int(input(\"Enter the value of length in span BC\"))  #length 2\n",
    "EI=1\n"
   ]
  },
  {
   "cell_type": "code",
   "execution_count": 13,
   "id": "332bc686",
   "metadata": {},
   "outputs": [
    {
     "name": "stdout",
     "output_type": "stream",
     "text": [
      "The fixed end moments are:\n",
      "-22.5 22.5 -266.6666666666667 266.6666666666667\n"
     ]
    }
   ],
   "source": [
    "#fixed end moment calculation\n",
    "\n",
    "MFAB=-W1*L1/8 #formula\n",
    "MFBA=W1*L1/8  #formula\n",
    "MFBC=-(W2*L2*L2)/12\n",
    "MFCB=(W2*L2**2)/12\n",
    "print('The fixed end moments are:')\n",
    "print(MFAB,MFBA,MFBC,MFCB)\n"
   ]
  },
  {
   "cell_type": "code",
   "execution_count": 14,
   "id": "40d8db1c",
   "metadata": {},
   "outputs": [
    {
     "name": "stdout",
     "output_type": "stream",
     "text": [
      "17.142857142857146\n"
     ]
    }
   ],
   "source": [
    "ThetaB=40/(1+(4/3)) #Angle of slope\n",
    "print(ThetaB)"
   ]
  },
  {
   "cell_type": "code",
   "execution_count": 15,
   "id": "1752adb7",
   "metadata": {},
   "outputs": [
    {
     "name": "stdout",
     "output_type": "stream",
     "text": [
      "The support moments are :\n",
      "-13.928571428571427 39.642857142857146 -249.52380952380955 275.23809523809524\n"
     ]
    }
   ],
   "source": [
    "#calculation of support momments.\n",
    "\n",
    "MAB=MFAB+((2*EI/L1)*ThetaB)\n",
    "MBA=MFBA+((2*EI/L1)*2*ThetaB)\n",
    "MBC=MFBC+((2*2*EI/L2)*2*ThetaB)\n",
    "MCB=MFCB+((2*2*EI/L2)*ThetaB)\n",
    "print('The support moments are :')\n",
    "print(MAB,MBA,MBC,MCB)"
   ]
  },
  {
   "cell_type": "code",
   "execution_count": 16,
   "id": "da837f16",
   "metadata": {},
   "outputs": [],
   "source": [
    "#libraries\n",
    "import numpy as np\n",
    "from matplotlib import pyplot as plt"
   ]
  },
  {
   "cell_type": "code",
   "execution_count": 18,
   "id": "264f642e",
   "metadata": {},
   "outputs": [
    {
     "data": {
      "text/plain": [
       "Text(0.5, 1.0, 'Bending moment of span AB')"
      ]
     },
     "execution_count": 18,
     "metadata": {},
     "output_type": "execute_result"
    },
    {
     "data": {
      "image/png": "[encoded data removed]",
      "text/plain": [
       "<Figure size 640x480 with 1 Axes>"
      ]
     },
     "metadata": {},
     "output_type": "display_data"
    }
   ],
   "source": [
    "#bending moment due to point load\n",
    "\n",
    "m1=[0,W1*L1/4,0]\n",
    "x1=[0,2,4]\n",
    "M11=[abs(MAB),abs(MBA),abs(MCB)]\n",
    "x22=[4,6,10]\n",
    "x11=[0,4,10]\n",
    "plt.plot(x1,m1)  #BM pl\n",
    "plt.plot(x11,M11) #BM UDL\n",
    "l=10;\n",
    "x=np.linspace(4,l,30)\n",
    "M=(W2/2)*((l-4)*(x-4)-(x-4)**2)\n",
    "plt.plot(x,M)\n",
    "plt.title(\"Bending moment of span AB\")"
   ]
  },
  {
   "cell_type": "code",
   "execution_count": null,
   "id": "0e62552e",
   "metadata": {},
   "outputs": [],
   "source": []
  },
  {
   "cell_type": "code",
   "execution_count": null,
   "id": "6c00806a",
   "metadata": {},
   "outputs": [],
   "source": []
  },
  {
   "cell_type": "code",
   "execution_count": null,
   "id": "a55acae4",
   "metadata": {},
   "outputs": [],
   "source": []
  },
  {
   "cell_type": "markdown",
   "id": "6f5b687e",
   "metadata": {},
   "source": [
    "# 3 Flood Routing (By Using muskingum method)"
   ]
  },
  {
   "cell_type": "markdown",
   "id": "5b8013a6",
   "metadata": {},
   "source": [
    "Importing library"
   ]
  },
  {
   "cell_type": "code",
   "execution_count": 1,
   "id": "220033cd",
   "metadata": {},
   "outputs": [],
   "source": [
    "import pandas as pd\n",
    "df=pd.read_csv(\"Flood_csv.csv\")"
   ]
  },
  {
   "cell_type": "markdown",
   "id": "5647af62",
   "metadata": {},
   "source": [
    "Getting Data"
   ]
  },
  {
   "cell_type": "code",
   "execution_count": 2,
   "id": "937071ec",
   "metadata": {},
   "outputs": [
    {
     "data": {
      "text/html": [
       "<div>\n",
       "<style scoped>\n",
       "    .dataframe tbody tr th:only-of-type {\n",
       "        vertical-align: middle;\n",
       "    }\n",
       "\n",
       "    .dataframe tbody tr th {\n",
       "        vertical-align: top;\n",
       "    }\n",
       "\n",
       "    .dataframe thead th {\n",
       "        text-align: right;\n",
       "    }\n",
       "</style>\n",
       "<table border=\"1\" class=\"dataframe\">\n",
       "  <thead>\n",
       "    <tr style=\"text-align: right;\">\n",
       "      <th></th>\n",
       "      <th>Time</th>\n",
       "      <th>Q</th>\n",
       "    </tr>\n",
       "  </thead>\n",
       "  <tbody>\n",
       "    <tr>\n",
       "      <th>0</th>\n",
       "      <td>0</td>\n",
       "      <td>10</td>\n",
       "    </tr>\n",
       "    <tr>\n",
       "      <th>1</th>\n",
       "      <td>6</td>\n",
       "      <td>20</td>\n",
       "    </tr>\n",
       "    <tr>\n",
       "      <th>2</th>\n",
       "      <td>12</td>\n",
       "      <td>50</td>\n",
       "    </tr>\n",
       "    <tr>\n",
       "      <th>3</th>\n",
       "      <td>18</td>\n",
       "      <td>60</td>\n",
       "    </tr>\n",
       "    <tr>\n",
       "      <th>4</th>\n",
       "      <td>24</td>\n",
       "      <td>55</td>\n",
       "    </tr>\n",
       "    <tr>\n",
       "      <th>5</th>\n",
       "      <td>30</td>\n",
       "      <td>45</td>\n",
       "    </tr>\n",
       "    <tr>\n",
       "      <th>6</th>\n",
       "      <td>36</td>\n",
       "      <td>35</td>\n",
       "    </tr>\n",
       "    <tr>\n",
       "      <th>7</th>\n",
       "      <td>42</td>\n",
       "      <td>27</td>\n",
       "    </tr>\n",
       "    <tr>\n",
       "      <th>8</th>\n",
       "      <td>48</td>\n",
       "      <td>20</td>\n",
       "    </tr>\n",
       "    <tr>\n",
       "      <th>9</th>\n",
       "      <td>54</td>\n",
       "      <td>15</td>\n",
       "    </tr>\n",
       "  </tbody>\n",
       "</table>\n",
       "</div>"
      ],
      "text/plain": [
       "   Time   Q\n",
       "0     0  10\n",
       "1     6  20\n",
       "2    12  50\n",
       "3    18  60\n",
       "4    24  55\n",
       "5    30  45\n",
       "6    36  35\n",
       "7    42  27\n",
       "8    48  20\n",
       "9    54  15"
      ]
     },
     "execution_count": 2,
     "metadata": {},
     "output_type": "execute_result"
    }
   ],
   "source": [
    "df"
   ]
  },
  {
   "cell_type": "code",
   "execution_count": 3,
   "id": "fbe49225",
   "metadata": {},
   "outputs": [],
   "source": [
    "#calculating constants"
   ]
  },
  {
   "cell_type": "code",
   "execution_count": 12,
   "id": "f73cf62b",
   "metadata": {},
   "outputs": [
    {
     "name": "stdout",
     "output_type": "stream",
     "text": [
      "   Time   Q\n",
      "0     0  10\n",
      "1     6  20\n",
      "2    12  50\n",
      "3    18  60\n",
      "4    24  55\n",
      "5    30  45\n",
      "6    36  35\n",
      "7    42  27\n",
      "8    48  20\n",
      "9    54  15\n",
      "[10, 14.285714285714288, 29.863945578231295, 43.73825720764496, 49.339087108766414, 47.74904562840146, 42.15426199582934, 35.318899140672514, 28.357518597495126, 22.23489069392602]\n"
     ]
    },
    {
     "data": {
      "text/plain": [
       "[<matplotlib.lines.Line2D at 0x23f7b114400>]"
      ]
     },
     "execution_count": 12,
     "metadata": {},
     "output_type": "execute_result"
    },
    {
     "data": {
      "image/png": "[encoded data removed]",
      "text/plain": [
       "<Figure size 640x480 with 1 Axes>"
      ]
     },
     "metadata": {},
     "output_type": "display_data"
    }
   ],
   "source": [
    "import pandas as pd\n",
    "df=pd.read_csv(\"Flood_csv.csv\")\n",
    "print(df)\n",
    "k=12\n",
    "x=0.2\n",
    "del_t=6\n",
    "c0=(((-k*x)+0.5*del_t)/((k-k*x)+(0.5*del_t)))\n",
    "c1=(((k*x)+0.5*del_t)/((k-k*x)+(0.5*del_t)))\n",
    "c2=((k-(k*x)-0.5*del_t)/((k-k*x)+(0.5*del_t)))\n",
    "c0,c1,c2\n",
    "Q=df.Q[:]\n",
    "time=df.Time[:]\n",
    "Q1=[]\n",
    "Q1.append(Q[0])\n",
    "for i in range(0,len(df)-1):\n",
    "    Q1.append(c0*df['Q'][i]+c1*df['Q'][i+1]+c2*Q1[i])\n",
    "print(Q1)\n",
    "import matplotlib.pyplot as plt\n",
    "plt.plot(time,Q1)\n",
    "plt.plot(time,Q)"
   ]
  },
  {
   "cell_type": "markdown",
   "id": "4c34aea9",
   "metadata": {},
   "source": [
    "#Discharge "
   ]
  },
  {
   "cell_type": "code",
   "execution_count": 6,
   "id": "42389e5b",
   "metadata": {},
   "outputs": [],
   "source": [
    "Q=df.Q[:]"
   ]
  },
  {
   "cell_type": "code",
   "execution_count": 8,
   "id": "d96def13",
   "metadata": {},
   "outputs": [],
   "source": [
    "time=df.Time[:]"
   ]
  },
  {
   "cell_type": "code",
   "execution_count": 9,
   "id": "ce1367c4",
   "metadata": {},
   "outputs": [
    {
     "data": {
      "text/plain": [
       "[10,\n",
       " 14.285714285714288,\n",
       " 29.863945578231295,\n",
       " 43.73825720764496,\n",
       " 49.339087108766414,\n",
       " 47.74904562840146,\n",
       " 42.15426199582934,\n",
       " 35.318899140672514,\n",
       " 28.357518597495126,\n",
       " 22.23489069392602]"
      ]
     },
     "execution_count": 9,
     "metadata": {},
     "output_type": "execute_result"
    }
   ],
   "source": [
    "Q1=[]\n",
    "Q1.append(Q[0])\n",
    "for i in range(0,len(df)-1):\n",
    "    Q1.append(c0*df['Q'][i]+c1*df['Q'][i+1]+c2*Q1[i])\n",
    "Q1\n"
   ]
  },
  {
   "cell_type": "code",
   "execution_count": 11,
   "id": "08dcc6b4",
   "metadata": {},
   "outputs": [
    {
     "data": {
      "text/plain": [
       "[<matplotlib.lines.Line2D at 0x23f7b0917c0>]"
      ]
     },
     "execution_count": 11,
     "metadata": {},
     "output_type": "execute_result"
    },
    {
     "data": {
      "image/png": "[encoded data removed]",
      "text/plain": [
       "<Figure size 640x480 with 1 Axes>"
      ]
     },
     "metadata": {},
     "output_type": "display_data"
    }
   ],
   "source": [
    "import matplotlib.pyplot as plt\n",
    "plt.plot(time,Q1)\n",
    "plt.plot(time,Q)"
   ]
  },
  {
   "cell_type": "code",
   "execution_count": 24,
   "id": "245220ff",
   "metadata": {},
   "outputs": [
    {
     "data": {
      "text/plain": [
       "[10, 20, 50, 60, 55, 45, 35, 27, 20, 15]"
      ]
     },
     "execution_count": 24,
     "metadata": {},
     "output_type": "execute_result"
    }
   ],
   "source": [
    "Q=df.Q[:]\n",
    "Q\n",
    "Q2=[]\n",
    "for i in Q:\n",
    "       Q2.append(i)\n",
    "Q2"
   ]
  },
  {
   "cell_type": "markdown",
   "id": "1e5ae338",
   "metadata": {},
   "source": [
    "Time"
   ]
  },
  {
   "cell_type": "code",
   "execution_count": 25,
   "id": "cb64af7f",
   "metadata": {},
   "outputs": [
    {
     "data": {
      "text/plain": [
       "0     0\n",
       "1     6\n",
       "2    12\n",
       "3    18\n",
       "4    24\n",
       "5    30\n",
       "6    36\n",
       "7    42\n",
       "8    48\n",
       "9    54\n",
       "Name: Time, dtype: int64"
      ]
     },
     "execution_count": 25,
     "metadata": {},
     "output_type": "execute_result"
    }
   ],
   "source": [
    "time=df.Time[:]\n",
    "time"
   ]
  },
  {
   "cell_type": "markdown",
   "id": "86e5c562",
   "metadata": {},
   "source": [
    "Time 2"
   ]
  },
  {
   "cell_type": "code",
   "execution_count": 26,
   "id": "507e59e6",
   "metadata": {},
   "outputs": [],
   "source": [
    "time2=[]\n",
    "for i in time:\n",
    "    time2.append(i)"
   ]
  },
  {
   "cell_type": "code",
   "execution_count": 27,
   "id": "92ed5aca",
   "metadata": {},
   "outputs": [
    {
     "name": "stdout",
     "output_type": "stream",
     "text": [
      "[0, 6, 12, 18, 24, 30, 36, 42, 48, 54]\n",
      "[10, 20, 50, 60, 55, 45, 35, 27, 20, 15]\n"
     ]
    }
   ],
   "source": [
    "print(time2)\n",
    "print(Q2)"
   ]
  },
  {
   "cell_type": "code",
   "execution_count": 28,
   "id": "f6937903",
   "metadata": {},
   "outputs": [
    {
     "data": {
      "text/plain": [
       "[10,\n",
       " 14.285714285714288,\n",
       " 29.863945578231295,\n",
       " 43.73825720764496,\n",
       " 49.339087108766414,\n",
       " 47.74904562840146,\n",
       " 42.15426199582934,\n",
       " 35.318899140672514,\n",
       " 28.357518597495126,\n",
       " 22.23489069392602]"
      ]
     },
     "execution_count": 28,
     "metadata": {},
     "output_type": "execute_result"
    }
   ],
   "source": [
    "Q1=[]\n",
    "Q1.append(Q[0])\n",
    "for i in range(0,len(df)-1):\n",
    "    Q1.append(c0*df['Q'][i]+c1*df['Q'][i+1]+c2*Q1[i])\n",
    "Q1"
   ]
  },
  {
   "cell_type": "markdown",
   "id": "4e6f792e",
   "metadata": {},
   "source": [
    "Plotting Graph"
   ]
  },
  {
   "cell_type": "code",
   "execution_count": 29,
   "id": "f36c3e61",
   "metadata": {
    "scrolled": true
   },
   "outputs": [
    {
     "data": {
      "text/plain": [
       "Text(0, 0.5, 'Time')"
      ]
     },
     "execution_count": 29,
     "metadata": {},
     "output_type": "execute_result"
    },
    {
     "data": {
      "image/png": "[encoded data removed]",
      "text/plain": [
       "<Figure size 640x480 with 1 Axes>"
      ]
     },
     "metadata": {},
     "output_type": "display_data"
    }
   ],
   "source": [
    "%matplotlib inline\n",
    "import matplotlib.pyplot as plt\n",
    "plt.plot(df.Time,df.Q)\n",
    "plt.plot(df.Time,Q1)\n",
    "plt.xlabel('Q1')\n",
    "plt.ylabel('Time')"
   ]
  },
  {
   "cell_type": "markdown",
   "id": "ab3d9118",
   "metadata": {},
   "source": [
    "# 4  Flood Fore Casting"
   ]
  },
  {
   "cell_type": "code",
   "execution_count": 34,
   "id": "8c122373",
   "metadata": {},
   "outputs": [],
   "source": [
    "import pandas as pd            #Importing llibrary\n",
    "df=pd.read_csv(\"flood.csv\")       #importing data"
   ]
  },
  {
   "cell_type": "code",
   "execution_count": 35,
   "id": "ba4f8e89",
   "metadata": {},
   "outputs": [
    {
     "data": {
      "text/html": [
       "<div>\n",
       "<style scoped>\n",
       "    .dataframe tbody tr th:only-of-type {\n",
       "        vertical-align: middle;\n",
       "    }\n",
       "\n",
       "    .dataframe tbody tr th {\n",
       "        vertical-align: top;\n",
       "    }\n",
       "\n",
       "    .dataframe thead th {\n",
       "        text-align: right;\n",
       "    }\n",
       "</style>\n",
       "<table border=\"1\" class=\"dataframe\">\n",
       "  <thead>\n",
       "    <tr style=\"text-align: right;\">\n",
       "      <th></th>\n",
       "      <th>year</th>\n",
       "      <th>disch</th>\n",
       "    </tr>\n",
       "  </thead>\n",
       "  <tbody>\n",
       "    <tr>\n",
       "      <th>0</th>\n",
       "      <td>1951</td>\n",
       "      <td>2709</td>\n",
       "    </tr>\n",
       "    <tr>\n",
       "      <th>1</th>\n",
       "      <td>1952</td>\n",
       "      <td>2399</td>\n",
       "    </tr>\n",
       "    <tr>\n",
       "      <th>2</th>\n",
       "      <td>1953</td>\n",
       "      <td>1970</td>\n",
       "    </tr>\n",
       "    <tr>\n",
       "      <th>3</th>\n",
       "      <td>1954</td>\n",
       "      <td>6761</td>\n",
       "    </tr>\n",
       "    <tr>\n",
       "      <th>4</th>\n",
       "      <td>1955</td>\n",
       "      <td>6599</td>\n",
       "    </tr>\n",
       "    <tr>\n",
       "      <th>5</th>\n",
       "      <td>1956</td>\n",
       "      <td>5060</td>\n",
       "    </tr>\n",
       "    <tr>\n",
       "      <th>6</th>\n",
       "      <td>1957</td>\n",
       "      <td>7826</td>\n",
       "    </tr>\n",
       "    <tr>\n",
       "      <th>7</th>\n",
       "      <td>1958</td>\n",
       "      <td>6900</td>\n",
       "    </tr>\n",
       "    <tr>\n",
       "      <th>8</th>\n",
       "      <td>1959</td>\n",
       "      <td>3757</td>\n",
       "    </tr>\n",
       "    <tr>\n",
       "      <th>9</th>\n",
       "      <td>1960</td>\n",
       "      <td>3700</td>\n",
       "    </tr>\n",
       "    <tr>\n",
       "      <th>10</th>\n",
       "      <td>1961</td>\n",
       "      <td>3521</td>\n",
       "    </tr>\n",
       "    <tr>\n",
       "      <th>11</th>\n",
       "      <td>1962</td>\n",
       "      <td>3496</td>\n",
       "    </tr>\n",
       "    <tr>\n",
       "      <th>12</th>\n",
       "      <td>1963</td>\n",
       "      <td>3380</td>\n",
       "    </tr>\n",
       "    <tr>\n",
       "      <th>13</th>\n",
       "      <td>1964</td>\n",
       "      <td>3320</td>\n",
       "    </tr>\n",
       "    <tr>\n",
       "      <th>14</th>\n",
       "      <td>1965</td>\n",
       "      <td>2988</td>\n",
       "    </tr>\n",
       "    <tr>\n",
       "      <th>15</th>\n",
       "      <td>1966</td>\n",
       "      <td>2947</td>\n",
       "    </tr>\n",
       "    <tr>\n",
       "      <th>16</th>\n",
       "      <td>1967</td>\n",
       "      <td>2947</td>\n",
       "    </tr>\n",
       "    <tr>\n",
       "      <th>17</th>\n",
       "      <td>1968</td>\n",
       "      <td>5050</td>\n",
       "    </tr>\n",
       "    <tr>\n",
       "      <th>18</th>\n",
       "      <td>1969</td>\n",
       "      <td>4903</td>\n",
       "    </tr>\n",
       "    <tr>\n",
       "      <th>19</th>\n",
       "      <td>1970</td>\n",
       "      <td>4798</td>\n",
       "    </tr>\n",
       "    <tr>\n",
       "      <th>20</th>\n",
       "      <td>1971</td>\n",
       "      <td>4652</td>\n",
       "    </tr>\n",
       "    <tr>\n",
       "      <th>21</th>\n",
       "      <td>1972</td>\n",
       "      <td>4593</td>\n",
       "    </tr>\n",
       "    <tr>\n",
       "      <th>22</th>\n",
       "      <td>1973</td>\n",
       "      <td>4366</td>\n",
       "    </tr>\n",
       "    <tr>\n",
       "      <th>23</th>\n",
       "      <td>1974</td>\n",
       "      <td>4290</td>\n",
       "    </tr>\n",
       "    <tr>\n",
       "      <th>24</th>\n",
       "      <td>1975</td>\n",
       "      <td>4175</td>\n",
       "    </tr>\n",
       "    <tr>\n",
       "      <th>25</th>\n",
       "      <td>1976</td>\n",
       "      <td>4124</td>\n",
       "    </tr>\n",
       "    <tr>\n",
       "      <th>26</th>\n",
       "      <td>1977</td>\n",
       "      <td>3873</td>\n",
       "    </tr>\n",
       "  </tbody>\n",
       "</table>\n",
       "</div>"
      ],
      "text/plain": [
       "    year  disch\n",
       "0   1951   2709\n",
       "1   1952   2399\n",
       "2   1953   1970\n",
       "3   1954   6761\n",
       "4   1955   6599\n",
       "5   1956   5060\n",
       "6   1957   7826\n",
       "7   1958   6900\n",
       "8   1959   3757\n",
       "9   1960   3700\n",
       "10  1961   3521\n",
       "11  1962   3496\n",
       "12  1963   3380\n",
       "13  1964   3320\n",
       "14  1965   2988\n",
       "15  1966   2947\n",
       "16  1967   2947\n",
       "17  1968   5050\n",
       "18  1969   4903\n",
       "19  1970   4798\n",
       "20  1971   4652\n",
       "21  1972   4593\n",
       "22  1973   4366\n",
       "23  1974   4290\n",
       "24  1975   4175\n",
       "25  1976   4124\n",
       "26  1977   3873"
      ]
     },
     "execution_count": 35,
     "metadata": {},
     "output_type": "execute_result"
    }
   ],
   "source": [
    "df"
   ]
  },
  {
   "cell_type": "code",
   "execution_count": 36,
   "id": "7e34bfe3",
   "metadata": {},
   "outputs": [],
   "source": [
    "df=df.sort_values(by=[\"disch\"],ascending=True)\n",
    "df[\"Rank\"]=df['disch'].rank(ascending=1)"
   ]
  },
  {
   "cell_type": "code",
   "execution_count": 37,
   "id": "616519e8",
   "metadata": {},
   "outputs": [],
   "source": [
    "df=df.sort_values(by=['disch'],ascending=True)\n",
    "df[\"Rank\"]=df['disch'].rank(ascending=1)"
   ]
  },
  {
   "cell_type": "code",
   "execution_count": 38,
   "id": "d28db66e",
   "metadata": {},
   "outputs": [],
   "source": [
    "#Giving additional column as TP \n",
    "df[\"Tp\"]=(len(df)+1)/df[\"Rank\"]"
   ]
  },
  {
   "cell_type": "code",
   "execution_count": 39,
   "id": "213f08fc",
   "metadata": {},
   "outputs": [
    {
     "data": {
      "text/html": [
       "<div>\n",
       "<style scoped>\n",
       "    .dataframe tbody tr th:only-of-type {\n",
       "        vertical-align: middle;\n",
       "    }\n",
       "\n",
       "    .dataframe tbody tr th {\n",
       "        vertical-align: top;\n",
       "    }\n",
       "\n",
       "    .dataframe thead th {\n",
       "        text-align: right;\n",
       "    }\n",
       "</style>\n",
       "<table border=\"1\" class=\"dataframe\">\n",
       "  <thead>\n",
       "    <tr style=\"text-align: right;\">\n",
       "      <th></th>\n",
       "      <th>year</th>\n",
       "      <th>disch</th>\n",
       "      <th>Rank</th>\n",
       "      <th>Tp</th>\n",
       "    </tr>\n",
       "  </thead>\n",
       "  <tbody>\n",
       "    <tr>\n",
       "      <th>2</th>\n",
       "      <td>1953</td>\n",
       "      <td>1970</td>\n",
       "      <td>1.0</td>\n",
       "      <td>28.000000</td>\n",
       "    </tr>\n",
       "    <tr>\n",
       "      <th>1</th>\n",
       "      <td>1952</td>\n",
       "      <td>2399</td>\n",
       "      <td>2.0</td>\n",
       "      <td>14.000000</td>\n",
       "    </tr>\n",
       "    <tr>\n",
       "      <th>0</th>\n",
       "      <td>1951</td>\n",
       "      <td>2709</td>\n",
       "      <td>3.0</td>\n",
       "      <td>9.333333</td>\n",
       "    </tr>\n",
       "    <tr>\n",
       "      <th>16</th>\n",
       "      <td>1967</td>\n",
       "      <td>2947</td>\n",
       "      <td>4.5</td>\n",
       "      <td>6.222222</td>\n",
       "    </tr>\n",
       "    <tr>\n",
       "      <th>15</th>\n",
       "      <td>1966</td>\n",
       "      <td>2947</td>\n",
       "      <td>4.5</td>\n",
       "      <td>6.222222</td>\n",
       "    </tr>\n",
       "    <tr>\n",
       "      <th>14</th>\n",
       "      <td>1965</td>\n",
       "      <td>2988</td>\n",
       "      <td>6.0</td>\n",
       "      <td>4.666667</td>\n",
       "    </tr>\n",
       "    <tr>\n",
       "      <th>13</th>\n",
       "      <td>1964</td>\n",
       "      <td>3320</td>\n",
       "      <td>7.0</td>\n",
       "      <td>4.000000</td>\n",
       "    </tr>\n",
       "    <tr>\n",
       "      <th>12</th>\n",
       "      <td>1963</td>\n",
       "      <td>3380</td>\n",
       "      <td>8.0</td>\n",
       "      <td>3.500000</td>\n",
       "    </tr>\n",
       "    <tr>\n",
       "      <th>11</th>\n",
       "      <td>1962</td>\n",
       "      <td>3496</td>\n",
       "      <td>9.0</td>\n",
       "      <td>3.111111</td>\n",
       "    </tr>\n",
       "    <tr>\n",
       "      <th>10</th>\n",
       "      <td>1961</td>\n",
       "      <td>3521</td>\n",
       "      <td>10.0</td>\n",
       "      <td>2.800000</td>\n",
       "    </tr>\n",
       "    <tr>\n",
       "      <th>9</th>\n",
       "      <td>1960</td>\n",
       "      <td>3700</td>\n",
       "      <td>11.0</td>\n",
       "      <td>2.545455</td>\n",
       "    </tr>\n",
       "    <tr>\n",
       "      <th>8</th>\n",
       "      <td>1959</td>\n",
       "      <td>3757</td>\n",
       "      <td>12.0</td>\n",
       "      <td>2.333333</td>\n",
       "    </tr>\n",
       "    <tr>\n",
       "      <th>26</th>\n",
       "      <td>1977</td>\n",
       "      <td>3873</td>\n",
       "      <td>13.0</td>\n",
       "      <td>2.153846</td>\n",
       "    </tr>\n",
       "    <tr>\n",
       "      <th>25</th>\n",
       "      <td>1976</td>\n",
       "      <td>4124</td>\n",
       "      <td>14.0</td>\n",
       "      <td>2.000000</td>\n",
       "    </tr>\n",
       "    <tr>\n",
       "      <th>24</th>\n",
       "      <td>1975</td>\n",
       "      <td>4175</td>\n",
       "      <td>15.0</td>\n",
       "      <td>1.866667</td>\n",
       "    </tr>\n",
       "    <tr>\n",
       "      <th>23</th>\n",
       "      <td>1974</td>\n",
       "      <td>4290</td>\n",
       "      <td>16.0</td>\n",
       "      <td>1.750000</td>\n",
       "    </tr>\n",
       "    <tr>\n",
       "      <th>22</th>\n",
       "      <td>1973</td>\n",
       "      <td>4366</td>\n",
       "      <td>17.0</td>\n",
       "      <td>1.647059</td>\n",
       "    </tr>\n",
       "    <tr>\n",
       "      <th>21</th>\n",
       "      <td>1972</td>\n",
       "      <td>4593</td>\n",
       "      <td>18.0</td>\n",
       "      <td>1.555556</td>\n",
       "    </tr>\n",
       "    <tr>\n",
       "      <th>20</th>\n",
       "      <td>1971</td>\n",
       "      <td>4652</td>\n",
       "      <td>19.0</td>\n",
       "      <td>1.473684</td>\n",
       "    </tr>\n",
       "    <tr>\n",
       "      <th>19</th>\n",
       "      <td>1970</td>\n",
       "      <td>4798</td>\n",
       "      <td>20.0</td>\n",
       "      <td>1.400000</td>\n",
       "    </tr>\n",
       "    <tr>\n",
       "      <th>18</th>\n",
       "      <td>1969</td>\n",
       "      <td>4903</td>\n",
       "      <td>21.0</td>\n",
       "      <td>1.333333</td>\n",
       "    </tr>\n",
       "    <tr>\n",
       "      <th>17</th>\n",
       "      <td>1968</td>\n",
       "      <td>5050</td>\n",
       "      <td>22.0</td>\n",
       "      <td>1.272727</td>\n",
       "    </tr>\n",
       "    <tr>\n",
       "      <th>5</th>\n",
       "      <td>1956</td>\n",
       "      <td>5060</td>\n",
       "      <td>23.0</td>\n",
       "      <td>1.217391</td>\n",
       "    </tr>\n",
       "    <tr>\n",
       "      <th>4</th>\n",
       "      <td>1955</td>\n",
       "      <td>6599</td>\n",
       "      <td>24.0</td>\n",
       "      <td>1.166667</td>\n",
       "    </tr>\n",
       "    <tr>\n",
       "      <th>3</th>\n",
       "      <td>1954</td>\n",
       "      <td>6761</td>\n",
       "      <td>25.0</td>\n",
       "      <td>1.120000</td>\n",
       "    </tr>\n",
       "    <tr>\n",
       "      <th>7</th>\n",
       "      <td>1958</td>\n",
       "      <td>6900</td>\n",
       "      <td>26.0</td>\n",
       "      <td>1.076923</td>\n",
       "    </tr>\n",
       "    <tr>\n",
       "      <th>6</th>\n",
       "      <td>1957</td>\n",
       "      <td>7826</td>\n",
       "      <td>27.0</td>\n",
       "      <td>1.037037</td>\n",
       "    </tr>\n",
       "  </tbody>\n",
       "</table>\n",
       "</div>"
      ],
      "text/plain": [
       "    year  disch  Rank         Tp\n",
       "2   1953   1970   1.0  28.000000\n",
       "1   1952   2399   2.0  14.000000\n",
       "0   1951   2709   3.0   9.333333\n",
       "16  1967   2947   4.5   6.222222\n",
       "15  1966   2947   4.5   6.222222\n",
       "14  1965   2988   6.0   4.666667\n",
       "13  1964   3320   7.0   4.000000\n",
       "12  1963   3380   8.0   3.500000\n",
       "11  1962   3496   9.0   3.111111\n",
       "10  1961   3521  10.0   2.800000\n",
       "9   1960   3700  11.0   2.545455\n",
       "8   1959   3757  12.0   2.333333\n",
       "26  1977   3873  13.0   2.153846\n",
       "25  1976   4124  14.0   2.000000\n",
       "24  1975   4175  15.0   1.866667\n",
       "23  1974   4290  16.0   1.750000\n",
       "22  1973   4366  17.0   1.647059\n",
       "21  1972   4593  18.0   1.555556\n",
       "20  1971   4652  19.0   1.473684\n",
       "19  1970   4798  20.0   1.400000\n",
       "18  1969   4903  21.0   1.333333\n",
       "17  1968   5050  22.0   1.272727\n",
       "5   1956   5060  23.0   1.217391\n",
       "4   1955   6599  24.0   1.166667\n",
       "3   1954   6761  25.0   1.120000\n",
       "7   1958   6900  26.0   1.076923\n",
       "6   1957   7826  27.0   1.037037"
      ]
     },
     "execution_count": 39,
     "metadata": {},
     "output_type": "execute_result"
    }
   ],
   "source": [
    "df #Updated dataFrame"
   ]
  },
  {
   "cell_type": "code",
   "execution_count": 66,
   "id": "237d987d",
   "metadata": {},
   "outputs": [
    {
     "name": "stdout",
     "output_type": "stream",
     "text": [
      "4263.111111111111 1432.643584785009\n",
      "4263.111111111111\n",
      "2.25\n",
      "2.3886642444938233 1432.643584785009 1.5601599418393313 2.25\n"
     ]
    },
    {
     "data": {
      "text/plain": [
       "6498.264243025782"
      ]
     },
     "execution_count": 66,
     "metadata": {},
     "output_type": "execute_result"
    }
   ],
   "source": [
    "average=df[\"disch\"].mean() #Calculating average\n",
    "stdev=df[\"disch\"].std()   #Calculating Standard deviation\n",
    "print(average,stdev)\n",
    "yn=0.5332\n",
    "sn=1.1004\n",
    "t=100\n",
    "dff=df[\"disch\"].mean()\n",
    "print(dff)\n",
    "#Calculating YT and B\n",
    "import math\n",
    "yt=2.250#-math.ln(math.ln(t/(t-1)))\n",
    "print(yt)\n",
    "k=(yt-yn)/sn\n",
    "b=math.sqrt(1+1.3*k+1.1*k*k)\n",
    "print(b,stdev,k,yt)\n",
    "xt=dff+(k*stdev)\n",
    "xt"
   ]
  },
  {
   "cell_type": "code",
   "execution_count": 53,
   "id": "d7fceefc",
   "metadata": {},
   "outputs": [
    {
     "name": "stdout",
     "output_type": "stream",
     "text": [
      "4263.111111111111\n"
     ]
    }
   ],
   "source": [
    "dff=df[\"disch\"].mean()\n",
    "print(dff)"
   ]
  },
  {
   "cell_type": "code",
   "execution_count": 91,
   "id": "db1698cf",
   "metadata": {},
   "outputs": [
    {
     "name": "stdout",
     "output_type": "stream",
     "text": [
      "4.600149226776574\n",
      "4.564005971732496 1432.643584785009 3.695882612483255 4.600149226776574\n"
     ]
    },
    {
     "data": {
      "text/plain": [
       "9557.993626003707"
      ]
     },
     "execution_count": 91,
     "metadata": {},
     "output_type": "execute_result"
    }
   ],
   "source": [
    "#Calculating YT and B\n",
    "import math\n",
    "yt=-math.log(math.log(t/(t-1)))\n",
    "print(yt)\n",
    "k=(yt-yn)/sn\n",
    "b=math.sqrt(1+1.3*k+1.1*k*k)\n",
    "print(b,stdev,k,yt)\n",
    "xt=dff+(k*stdev)\n",
    "xt"
   ]
  },
  {
   "cell_type": "code",
   "execution_count": 64,
   "id": "4c8d5e09",
   "metadata": {},
   "outputs": [
    {
     "data": {
      "text/plain": [
       "6498.264243025782"
      ]
     },
     "execution_count": 64,
     "metadata": {},
     "output_type": "execute_result"
    }
   ],
   "source": [
    "xt=dff+(k*stdev)\n",
    "xt"
   ]
  },
  {
   "cell_type": "code",
   "execution_count": 67,
   "id": "42568402",
   "metadata": {
    "scrolled": true
   },
   "outputs": [],
   "source": [
    "import pandas as pd            #Importing llibrary\n",
    "df=pd.read_csv(\"flood.csv\")       #importing data"
   ]
  },
  {
   "cell_type": "code",
   "execution_count": 68,
   "id": "d187691d",
   "metadata": {},
   "outputs": [
    {
     "data": {
      "text/html": [
       "<div>\n",
       "<style scoped>\n",
       "    .dataframe tbody tr th:only-of-type {\n",
       "        vertical-align: middle;\n",
       "    }\n",
       "\n",
       "    .dataframe tbody tr th {\n",
       "        vertical-align: top;\n",
       "    }\n",
       "\n",
       "    .dataframe thead th {\n",
       "        text-align: right;\n",
       "    }\n",
       "</style>\n",
       "<table border=\"1\" class=\"dataframe\">\n",
       "  <thead>\n",
       "    <tr style=\"text-align: right;\">\n",
       "      <th></th>\n",
       "      <th>year</th>\n",
       "      <th>disch</th>\n",
       "    </tr>\n",
       "  </thead>\n",
       "  <tbody>\n",
       "    <tr>\n",
       "      <th>0</th>\n",
       "      <td>1951</td>\n",
       "      <td>2709</td>\n",
       "    </tr>\n",
       "    <tr>\n",
       "      <th>1</th>\n",
       "      <td>1952</td>\n",
       "      <td>2399</td>\n",
       "    </tr>\n",
       "    <tr>\n",
       "      <th>2</th>\n",
       "      <td>1953</td>\n",
       "      <td>1970</td>\n",
       "    </tr>\n",
       "    <tr>\n",
       "      <th>3</th>\n",
       "      <td>1954</td>\n",
       "      <td>6761</td>\n",
       "    </tr>\n",
       "    <tr>\n",
       "      <th>4</th>\n",
       "      <td>1955</td>\n",
       "      <td>6599</td>\n",
       "    </tr>\n",
       "    <tr>\n",
       "      <th>5</th>\n",
       "      <td>1956</td>\n",
       "      <td>5060</td>\n",
       "    </tr>\n",
       "    <tr>\n",
       "      <th>6</th>\n",
       "      <td>1957</td>\n",
       "      <td>7826</td>\n",
       "    </tr>\n",
       "    <tr>\n",
       "      <th>7</th>\n",
       "      <td>1958</td>\n",
       "      <td>6900</td>\n",
       "    </tr>\n",
       "    <tr>\n",
       "      <th>8</th>\n",
       "      <td>1959</td>\n",
       "      <td>3757</td>\n",
       "    </tr>\n",
       "    <tr>\n",
       "      <th>9</th>\n",
       "      <td>1960</td>\n",
       "      <td>3700</td>\n",
       "    </tr>\n",
       "    <tr>\n",
       "      <th>10</th>\n",
       "      <td>1961</td>\n",
       "      <td>3521</td>\n",
       "    </tr>\n",
       "    <tr>\n",
       "      <th>11</th>\n",
       "      <td>1962</td>\n",
       "      <td>3496</td>\n",
       "    </tr>\n",
       "    <tr>\n",
       "      <th>12</th>\n",
       "      <td>1963</td>\n",
       "      <td>3380</td>\n",
       "    </tr>\n",
       "    <tr>\n",
       "      <th>13</th>\n",
       "      <td>1964</td>\n",
       "      <td>3320</td>\n",
       "    </tr>\n",
       "    <tr>\n",
       "      <th>14</th>\n",
       "      <td>1965</td>\n",
       "      <td>2988</td>\n",
       "    </tr>\n",
       "    <tr>\n",
       "      <th>15</th>\n",
       "      <td>1966</td>\n",
       "      <td>2947</td>\n",
       "    </tr>\n",
       "    <tr>\n",
       "      <th>16</th>\n",
       "      <td>1967</td>\n",
       "      <td>2947</td>\n",
       "    </tr>\n",
       "    <tr>\n",
       "      <th>17</th>\n",
       "      <td>1968</td>\n",
       "      <td>5050</td>\n",
       "    </tr>\n",
       "    <tr>\n",
       "      <th>18</th>\n",
       "      <td>1969</td>\n",
       "      <td>4903</td>\n",
       "    </tr>\n",
       "    <tr>\n",
       "      <th>19</th>\n",
       "      <td>1970</td>\n",
       "      <td>4798</td>\n",
       "    </tr>\n",
       "    <tr>\n",
       "      <th>20</th>\n",
       "      <td>1971</td>\n",
       "      <td>4652</td>\n",
       "    </tr>\n",
       "    <tr>\n",
       "      <th>21</th>\n",
       "      <td>1972</td>\n",
       "      <td>4593</td>\n",
       "    </tr>\n",
       "    <tr>\n",
       "      <th>22</th>\n",
       "      <td>1973</td>\n",
       "      <td>4366</td>\n",
       "    </tr>\n",
       "    <tr>\n",
       "      <th>23</th>\n",
       "      <td>1974</td>\n",
       "      <td>4290</td>\n",
       "    </tr>\n",
       "    <tr>\n",
       "      <th>24</th>\n",
       "      <td>1975</td>\n",
       "      <td>4175</td>\n",
       "    </tr>\n",
       "    <tr>\n",
       "      <th>25</th>\n",
       "      <td>1976</td>\n",
       "      <td>4124</td>\n",
       "    </tr>\n",
       "    <tr>\n",
       "      <th>26</th>\n",
       "      <td>1977</td>\n",
       "      <td>3873</td>\n",
       "    </tr>\n",
       "  </tbody>\n",
       "</table>\n",
       "</div>"
      ],
      "text/plain": [
       "    year  disch\n",
       "0   1951   2709\n",
       "1   1952   2399\n",
       "2   1953   1970\n",
       "3   1954   6761\n",
       "4   1955   6599\n",
       "5   1956   5060\n",
       "6   1957   7826\n",
       "7   1958   6900\n",
       "8   1959   3757\n",
       "9   1960   3700\n",
       "10  1961   3521\n",
       "11  1962   3496\n",
       "12  1963   3380\n",
       "13  1964   3320\n",
       "14  1965   2988\n",
       "15  1966   2947\n",
       "16  1967   2947\n",
       "17  1968   5050\n",
       "18  1969   4903\n",
       "19  1970   4798\n",
       "20  1971   4652\n",
       "21  1972   4593\n",
       "22  1973   4366\n",
       "23  1974   4290\n",
       "24  1975   4175\n",
       "25  1976   4124\n",
       "26  1977   3873"
      ]
     },
     "execution_count": 68,
     "metadata": {},
     "output_type": "execute_result"
    }
   ],
   "source": [
    "df"
   ]
  },
  {
   "cell_type": "code",
   "execution_count": 76,
   "id": "8dd86486",
   "metadata": {},
   "outputs": [],
   "source": [
    "df.sort_values(by=['disch'],ascending=True)\n",
    "df[\"Rank\"]=df[\"disch\"].rank(ascending=1)\n",
    "T=5"
   ]
  },
  {
   "cell_type": "code",
   "execution_count": 81,
   "id": "e10a2615",
   "metadata": {},
   "outputs": [],
   "source": [
    "df.sort_values(by=[\"disch\"],ascending=True)\n",
    "df[\"Rank\"]=df[\"disch\"].rank(ascending=1)"
   ]
  },
  {
   "cell_type": "code",
   "execution_count": 87,
   "id": "9dcaa1ee",
   "metadata": {},
   "outputs": [],
   "source": [
    "df.sort_values(by=['disch'],ascending=True)\n",
    "df[\"Rank\"]=df['disch'].rank(ascending=1)\n",
    "df[\"TP\"]=len(df)+1/df.Rank\n",
    "avg=df[\"disch\"].mean()\n",
    "std=df[\"disch\"].std()"
   ]
  },
  {
   "cell_type": "code",
   "execution_count": 89,
   "id": "d845f068",
   "metadata": {},
   "outputs": [
    {
     "data": {
      "text/plain": [
       "6498.264243025782"
      ]
     },
     "execution_count": 89,
     "metadata": {},
     "output_type": "execute_result"
    }
   ],
   "source": [
    "#k=yt-yn/sn\n",
    "#yn \n",
    "#yt=2.25\n",
    "#XT=avg+(std*k)\n",
    "k=(2.25-0.5332)/1.1004\n",
    "XT=(avg+(std*k))\n",
    "XT"
   ]
  },
  {
   "cell_type": "markdown",
   "id": "7e02d3d8",
   "metadata": {},
   "source": [
    "#  5 Finding Profile of a Gradual Varying Flow"
   ]
  },
  {
   "cell_type": "code",
   "execution_count": 13,
   "id": "c28f236f",
   "metadata": {},
   "outputs": [
    {
     "name": "stdout",
     "output_type": "stream",
     "text": [
      "Discharge per unit length is  3.733333333333333\n",
      "VAl1 is 2.103692753231802 Val2 is 2.1021944302273705 1.6700000000000013\n",
      "M1\n"
     ]
    },
    {
     "data": {
      "text/plain": [
       "3.733333333333333"
      ]
     },
     "execution_count": 13,
     "metadata": {},
     "output_type": "execute_result"
    }
   ],
   "source": [
    "#finding the profile of a GVF\n",
    "def prob(b,s,n,g,Q,y):\n",
    "    q=Q/b\n",
    "    print(\"Discharge per unit length is \",q)\n",
    "    yc=((q*q)/9.81)**(1/3)\n",
    "    yn=0\n",
    "    while True:\n",
    "        yn+=0.01\n",
    "        val1=n*Q/(s**0.5)\n",
    "        val2=b*yn*(b*yn/(b+2*yn))**(2/3)\n",
    "        diff=abs(val1-val2)\n",
    "        if diff<0.01:\n",
    "            print(\"VAl1 is\",val1,\"Val2 is\",val2,yn)\n",
    "            break\n",
    "    if yn>yc:\n",
    "        if y>yn:\n",
    "            print(\"M1\")\n",
    "        elif y<yc:\n",
    "            print(\"M2\")\n",
    "        else:\n",
    "            print(\"M3\")\n",
    "    else:\n",
    "        if y>yc:\n",
    "            print(\"S1\")\n",
    "        elif y<yn:\n",
    "            print(\"s3\")\n",
    "        else:\n",
    "            print(\"S2\")\n",
    "    return q\n",
    "prob(1.8,0.002,0.014,9.81,6.72,2.73)"
   ]
  },
  {
   "cell_type": "code",
   "execution_count": 14,
   "id": "e2d910bf",
   "metadata": {},
   "outputs": [
    {
     "name": "stdout",
     "output_type": "stream",
     "text": [
      "Discharge per unit length is  1.0\n",
      "VAl1 is 0.36998648623970043 Val2 is 0.3629937844711306 0.45000000000000023\n",
      "S1\n"
     ]
    },
    {
     "data": {
      "text/plain": [
       "1.0"
      ]
     },
     "execution_count": 14,
     "metadata": {},
     "output_type": "execute_result"
    }
   ],
   "source": [
    "#Calinng the function\n",
    "prob(1.8,0.004,0.013,9.81,1.8,1)"
   ]
  }
 ],
 "metadata": {
  "kernelspec": {
   "display_name": "Python 3 (ipykernel)",
   "language": "python",
   "name": "python3"
  },
  "language_info": {
   "codemirror_mode": {
    "name": "ipython",
    "version": 3
   },
   "file_extension": ".py",
   "mimetype": "text/x-python",
   "name": "python",
   "nbconvert_exporter": "python",
   "pygments_lexer": "ipython3",
   "version": "3.10.7"
  }
 },
 "nbformat": 4,
 "nbformat_minor": 5
}
